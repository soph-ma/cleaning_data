{
  "nbformat": 4,
  "nbformat_minor": 0,
  "metadata": {
    "colab": {
      "name": "cleaning_data.ipynb",
      "provenance": [],
      "collapsed_sections": [],
      "authorship_tag": "ABX9TyO3SFMDMwHjjymhrYerFU4e",
      "include_colab_link": true
    },
    "kernelspec": {
      "name": "python3",
      "display_name": "Python 3"
    },
    "language_info": {
      "name": "python"
    }
  },
  "cells": [
    {
      "cell_type": "markdown",
      "metadata": {
        "id": "view-in-github",
        "colab_type": "text"
      },
      "source": [
        "<a href=\"https://colab.research.google.com/github/soph-ma/cleaning_data/blob/main/cleaning_data.ipynb\" target=\"_parent\"><img src=\"https://colab.research.google.com/assets/colab-badge.svg\" alt=\"Open In Colab\"/></a>"
      ]
    },
    {
      "cell_type": "markdown",
      "source": [
        "**This code will look into each txt file in each subfolder on Google Drive, remove unnecessary symbols and overwrite these files with clean text.**"
      ],
      "metadata": {
        "id": "nvCD4DxnwQHp"
      }
    },
    {
      "cell_type": "code",
      "source": [
        "import os, glob\n",
        "import re"
      ],
      "metadata": {
        "id": "OelIVtPLzm8v"
      },
      "execution_count": 136,
      "outputs": []
    },
    {
      "cell_type": "code",
      "execution_count": 137,
      "metadata": {
        "id": "U_sYagnzmdLt",
        "colab": {
          "base_uri": "https://localhost:8080/"
        },
        "outputId": "8a401a0e-d500-4d78-bc45-8d4fa48d5e3f"
      },
      "outputs": [
        {
          "output_type": "stream",
          "name": "stdout",
          "text": [
            "Drive already mounted at /content/gdrive; to attempt to forcibly remount, call drive.mount(\"/content/gdrive\", force_remount=True).\n"
          ]
        }
      ],
      "source": [
        "from google.colab import drive\n",
        "drive.mount('/content/gdrive')\n",
        "\n",
        "my_folder = 'gdrive/My Drive/ukr_folk/'  # my folder with data on Google Drive"
      ]
    },
    {
      "cell_type": "markdown",
      "source": [
        "# Define what to remove from the text\n"
      ],
      "metadata": {
        "id": "p-gjGRyQvdeu"
      }
    },
    {
      "cell_type": "code",
      "source": [
        "chorus = \"Приспів\"                    # Ukrainian word for \"chorus\"\n",
        "trash1 = '([0-9])\\)'                  # unnecessary symbols\n",
        "trash2 = '\\('"
      ],
      "metadata": {
        "id": "m0hNcwdNvkyB"
      },
      "execution_count": 138,
      "outputs": []
    },
    {
      "cell_type": "markdown",
      "source": [
        "# Define functions"
      ],
      "metadata": {
        "id": "PzlDklXg7RAp"
      }
    },
    {
      "cell_type": "code",
      "source": [
        "def list_to_string(lst1):\n",
        "  \"\"\" Turn lst into str \"\"\" \n",
        "  str1 = \"\"\n",
        "  return (str1.join(lst1))"
      ],
      "metadata": {
        "id": "YiS70jRGx9hK"
      },
      "execution_count": 139,
      "outputs": []
    },
    {
      "cell_type": "code",
      "source": [
        "def clean_file(filename):\n",
        "  \"\"\" Clean data in a txt file \"\"\"\n",
        "\n",
        "  try:\n",
        "    f_hand = open(filename, \"r+\", encoding=\"utf-8\")\n",
        "    contents = f_hand.readlines()\n",
        "    new_contents = []\n",
        "\n",
        "    # remove trash from each line and skip empty lines\n",
        "    for line in contents: \n",
        "      if line == \"\\n\" or chorus in line:           \n",
        "        continue\n",
        "      elif re.search(trash1 or trash2, line):\n",
        "        line = re.sub(trash1 or trash2, '', line)\n",
        "        new_contents.append(line)\n",
        "      else:\n",
        "        new_contents.append(line)\n",
        "        \n",
        "    new_contents = list_to_string(new_contents)\n",
        "    other_files.set()\n",
        "    \n",
        "    new_hand = open(filename, \"w\")                    # overwrite a file\n",
        "    new_hand.write(new_contents)\n",
        "  \n",
        "  except:\n",
        "    pass\n",
        "  "
      ],
      "metadata": {
        "id": "JVrAX6Ye40xA"
      },
      "execution_count": 140,
      "outputs": []
    },
    {
      "cell_type": "code",
      "source": [
        "def access_dir(root_dir):\n",
        "  \"\"\" Access every file in every subfolder of root_dir \"\"\" \n",
        "  for fileing in os.listdir(root_dir):\n",
        "    d = os.path.join(root_dir, fileing)\n",
        "  \n",
        "    for file in glob.glob(os.path.join(d, \"*txt\")):\n",
        "      clean_file(file)\n"
      ],
      "metadata": {
        "id": "XXzsdJjIpbsD"
      },
      "execution_count": 141,
      "outputs": []
    },
    {
      "cell_type": "markdown",
      "source": [
        "# Call function\n"
      ],
      "metadata": {
        "id": "W38fzqfb7_Fb"
      }
    },
    {
      "cell_type": "code",
      "source": [
        "access_dir(root_path)          # clean texts "
      ],
      "metadata": {
        "id": "xzsYVbdctdZ6"
      },
      "execution_count": 142,
      "outputs": []
    }
  ]
}