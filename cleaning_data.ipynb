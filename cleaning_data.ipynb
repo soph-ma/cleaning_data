{
  "nbformat": 4,
  "nbformat_minor": 0,
  "metadata": {
    "colab": {
      "name": "cleaning_data.ipynb",
      "provenance": [],
      "authorship_tag": "ABX9TyNEdAoueNXuatnYNRithkAs",
      "include_colab_link": true
    },
    "kernelspec": {
      "name": "python3",
      "display_name": "Python 3"
    },
    "language_info": {
      "name": "python"
    }
  },
  "cells": [
    {
      "cell_type": "markdown",
      "metadata": {
        "id": "view-in-github",
        "colab_type": "text"
      },
      "source": [
        "<a href=\"https://colab.research.google.com/github/soph-ma/cleaning_data/blob/main/cleaning_data.ipynb\" target=\"_parent\"><img src=\"https://colab.research.google.com/assets/colab-badge.svg\" alt=\"Open In Colab\"/></a>"
      ]
    },
    {
      "cell_type": "markdown",
      "source": [
        "I want to create a ML-model which will generate verse in the style of Ukrainian folk songs. First and foremost, I need to clean my data (remove unnecessary symbols). **This code will look into each txt file in each subfolder, remove unnecessary symbols and overwrite these files with clean text.**"
      ],
      "metadata": {
        "id": "nvCD4DxnwQHp"
      }
    },
    {
      "cell_type": "code",
      "execution_count": null,
      "metadata": {
        "id": "U_sYagnzmdLt"
      },
      "outputs": [],
      "source": [
        "import re                   #library for regular expressions\n",
        "import os, glob             #for accessing all folders and files "
      ]
    },
    {
      "cell_type": "markdown",
      "source": [
        "# Defining what we want to remove from the text\n",
        "In the texts of Ukrainian folksongs, we have lines like \"Приспів\" which means \"chorus\" in English. Such lines are unnecessary for machine learning models and they should not be seen while training. We remove them.\n",
        "\n",
        "On the website where I found the texts of the songs, there are a lot of symbols in the text like \")\" or \"2)\". I also want to remove them either."
      ],
      "metadata": {
        "id": "p-gjGRyQvdeu"
      }
    },
    {
      "cell_type": "code",
      "source": [
        "trash = '([0-9])\\)'          #re, this will further be used to remove all patterns of such kind. e.g. 1), )\n",
        "chorus = \"Приспів\""
      ],
      "metadata": {
        "id": "m0hNcwdNvkyB"
      },
      "execution_count": null,
      "outputs": []
    },
    {
      "cell_type": "markdown",
      "source": [
        "# Function for turning lst into str\n",
        "It will be used in the next funtion"
      ],
      "metadata": {
        "id": "X1LIsRiMxvl1"
      }
    },
    {
      "cell_type": "code",
      "source": [
        "def list_to_string(lst1):\n",
        "    str1 = \"\"\n",
        "    return (str1.join(lst1))"
      ],
      "metadata": {
        "id": "YiS70jRGx9hK"
      },
      "execution_count": null,
      "outputs": []
    },
    {
      "cell_type": "markdown",
      "source": [
        "# Cleaning data in all files (in all subfolders)"
      ],
      "metadata": {
        "id": "3Z2zvnIzyEQ3"
      }
    },
    {
      "cell_type": "code",
      "source": [
        "def access_dir(rootdir):                                 # This function takes rootdir (main folder) as an argument and accesses all of its subfolders\n",
        "    for file in os.listdir(rootdir):\n",
        "        d = os.path.join(rootdir, file)\n",
        "        if os.path.isdir(d):\n",
        "            access_dir(d)\n",
        "\n",
        "            for filename in glob.glob(os.path.join(d, '*.txt')):   \n",
        "                f_hand = open(filename, \"r+\", encoding=\"utf-8\")    # open each file in each subfolder\n",
        "                content = f_hand.readlines()                       # turn the contents of each file into a list with lines of a song as elements of this list\n",
        "                new_content = []                                   # cleaned content will be appended to this list\n",
        "\n",
        "                for line in content:\n",
        "                    if line == \"\\n\" or chorus in line:             # skip the line if it contains the word for chorus or if it is empty\n",
        "                        continue\n",
        "                    elif re.search(trash, line):                   # remove unnecessary symbols and append the line to new_content\n",
        "                        line = re.sub(trash, '', line)\n",
        "                        new_content.append(line)                   \n",
        "                    else:\n",
        "                        new_content.append(line)                   # append all other lines to new_content   \n",
        "                new_content = list_to_string(new_content)          # convert new_content into str\n",
        "\n",
        "                with open(filename, \"w\") as f:                     #overwrite each file with cleaned content\n",
        "                    f.write(new_content)"
      ],
      "metadata": {
        "id": "HQINdCp9yRNW"
      },
      "execution_count": null,
      "outputs": []
    },
    {
      "cell_type": "markdown",
      "source": [
        "# Calling the function\n",
        "Now we call the function and the job is done ✔"
      ],
      "metadata": {
        "id": "P7oVAi3t0m8I"
      }
    },
    {
      "cell_type": "code",
      "source": [
        "rootdir = \"D:\\\\NLP\\\\ukr_folk\"           # I have a folder called ukr_folk with multiple subfolders. Each subfolder contains Ukrainian folksongs specific for \n",
        "access_dir(rootdir)                     # a certain time of the year or a specific social group            "
      ],
      "metadata": {
        "id": "TdExcko20sLS"
      },
      "execution_count": null,
      "outputs": []
    }
  ]
}